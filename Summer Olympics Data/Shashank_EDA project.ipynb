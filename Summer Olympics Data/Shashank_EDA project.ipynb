{
 "cells": [
  {
   "cell_type": "markdown",
   "metadata": {},
   "source": [
    "# Exploratory Data Analysis on Summer Olympics dataset"
   ]
  },
  {
   "cell_type": "markdown",
   "metadata": {},
   "source": [
    "### Table of Contents\n",
    "- 1. [Problem Statement](#section1)</br>\n",
    "- 2. [Data Loading and Description](#section2)</br>\n",
    "- 3. [Data profiling](#section3)</br>\n",
    "    - 3.1 [Understanding the Dataset](#section301)<br/>\n",
    "    - 3.2 [Pre Profiling](#section302)<br/>\n",
    "    - 3.3 [Preprocessing](#section303)<br/>\n",
    "    - 3.4 [Post Profiling](#section304)<br/>\n",
    "- 4. [Questions](#section4)</br>\n",
    "    - 4.1 [Of the total dataset, how many medals are gold, silver and bronze?](#section401)<br/>\n",
    "    - 4.2 [Who has been awarded more number of medals? Male or female?](#section402)<br/>\n",
    "    - 4.3 [Which city has seen the maximum number of medals won by sportspersons?](#section403)<br/>\n",
    "    - 4.4 [How is the performance of the men and women considering different medals won by them?](#section404)<br/>\n",
    "    - 4.5 [How the medals are distributed in different sports?](#section405)<br/>            \n",
    "    - 4.6 [Distribution of medals won by different countries till date.](#section406)<br/>\n",
    "    - 4.7 [Best performing country every year at Summer Olympics](#section407)<br/>\n",
    "    - 4.8 [Performance of India at Summer Olympics](#section408)<br/>\n",
    "- 5. [Conclusions and Actionable Insights](#section5)</br>"
   ]
  },
  {
   "cell_type": "markdown",
   "metadata": {},
   "source": [
    "## 1. Problem Statement\n",
    "\n",
    "   This dataset is summer olympics dataset with data collected from the year 1896 to 2012. By studying this dataset, we can see \n",
    "   how different sports have been encouraged by different countries. We will have an overview on performance of men and women \n",
    "   over the years. Also, how the various sports are distributed in Olympics events."
   ]
  },
  {
   "cell_type": "markdown",
   "metadata": {},
   "source": [
    "## 2. Data Loading and Desciption:\n",
    "\n",
    "   This dataset contains information of all summer olympics held from the year 1896 to 2012. Summer olympics is an event held\n",
    "   every 4 years and countries from all over the world particiapte in different sporting events.\n",
    "   "
   ]
  },
  {
   "cell_type": "markdown",
   "metadata": {},
   "source": [
    "####   Importing the packages"
   ]
  },
  {
   "cell_type": "code",
   "execution_count": 1,
   "metadata": {},
   "outputs": [],
   "source": [
    "import numpy as np                                                 # Implements milti-dimensional array and matrices\n",
    "import pandas as pd                                                # For data manipulation and analysis\n",
    "import pandas_profiling\n",
    "import matplotlib.pyplot as plt                                    # Plotting library for Python programming language and its numerical mathematics extension NumPy\n",
    "import seaborn as sns                                              # Provides a high level interface for drawing attractive and informative statistical graphics\n",
    "sns.set()\n",
    "\n",
    "from subprocess import check_output"
   ]
  },
  {
   "cell_type": "markdown",
   "metadata": {},
   "source": [
    "#####     Importing the dataset"
   ]
  },
  {
   "cell_type": "code",
   "execution_count": 2,
   "metadata": {},
   "outputs": [],
   "source": [
    "olympics_data=pd.read_csv('https://raw.githubusercontent.com/insaid2018/Term-1/master/Data/Projects/summer%20olympics.csv')"
   ]
  },
  {
   "cell_type": "markdown",
   "metadata": {},
   "source": [
    "## 3. Data Profiling"
   ]
  },
  {
   "cell_type": "markdown",
   "metadata": {},
   "source": [
    "   In the upcoming sections we will first understand our dataset using various pandas functionalities.\n",
    "   Then with the help of pandas profiling we will find which columns of our dataset need preprocessing.\n",
    "   In preprocessing we will deal with erronous and missing values of columns.\n",
    "   Again we will do pandas profiling to see how preprocessing have transformed our dataset."
   ]
  },
  {
   "cell_type": "markdown",
   "metadata": {},
   "source": [
    "###  3.1 Understanding the dataset\n",
    "  Let us start with gaining an insight on the dataset by observing column level analysis.\n",
    "        "
   ]
  },
  {
   "cell_type": "code",
   "execution_count": 3,
   "metadata": {},
   "outputs": [
    {
     "data": {
      "text/plain": [
       "(31165, 9)"
      ]
     },
     "execution_count": 3,
     "metadata": {},
     "output_type": "execute_result"
    }
   ],
   "source": [
    "olympics_data.shape                   # This will print the number of rows and comlumns of the Data Frame"
   ]
  },
  {
   "cell_type": "code",
   "execution_count": 46,
   "metadata": {},
   "outputs": [
    {
     "data": {
      "text/plain": [
       "count         31163\n",
       "unique           67\n",
       "top       Athletics\n",
       "freq           3638\n",
       "Name: Discipline, dtype: object"
      ]
     },
     "execution_count": 46,
     "metadata": {},
     "output_type": "execute_result"
    }
   ],
   "source": [
    "olympics_data.Discipline.describe()"
   ]
  },
  {
   "cell_type": "markdown",
   "metadata": {},
   "source": [
    "Summer olymics dataset has 31165 rows and 9 columns. Let us start with having a look on the columns"
   ]
  },
  {
   "cell_type": "code",
   "execution_count": 4,
   "metadata": {},
   "outputs": [
    {
     "data": {
      "text/plain": [
       "Index(['Year', 'City', 'Sport', 'Discipline', 'Athlete', 'Country', 'Gender',\n",
       "       'Event', 'Medal'],\n",
       "      dtype='object')"
      ]
     },
     "execution_count": 4,
     "metadata": {},
     "output_type": "execute_result"
    }
   ],
   "source": [
    "olympics_data.columns                 # This will print the names of all columns."
   ]
  },
  {
   "cell_type": "code",
   "execution_count": 5,
   "metadata": {},
   "outputs": [
    {
     "data": {
      "text/html": [
       "<div>\n",
       "<style scoped>\n",
       "    .dataframe tbody tr th:only-of-type {\n",
       "        vertical-align: middle;\n",
       "    }\n",
       "\n",
       "    .dataframe tbody tr th {\n",
       "        vertical-align: top;\n",
       "    }\n",
       "\n",
       "    .dataframe thead th {\n",
       "        text-align: right;\n",
       "    }\n",
       "</style>\n",
       "<table border=\"1\" class=\"dataframe\">\n",
       "  <thead>\n",
       "    <tr style=\"text-align: right;\">\n",
       "      <th></th>\n",
       "      <th>Year</th>\n",
       "      <th>City</th>\n",
       "      <th>Sport</th>\n",
       "      <th>Discipline</th>\n",
       "      <th>Athlete</th>\n",
       "      <th>Country</th>\n",
       "      <th>Gender</th>\n",
       "      <th>Event</th>\n",
       "      <th>Medal</th>\n",
       "    </tr>\n",
       "  </thead>\n",
       "  <tbody>\n",
       "    <tr>\n",
       "      <th>0</th>\n",
       "      <td>1896</td>\n",
       "      <td>Athens</td>\n",
       "      <td>Aquatics</td>\n",
       "      <td>Swimming</td>\n",
       "      <td>HAJOS, Alfred</td>\n",
       "      <td>HUN</td>\n",
       "      <td>Men</td>\n",
       "      <td>100M Freestyle</td>\n",
       "      <td>Gold</td>\n",
       "    </tr>\n",
       "    <tr>\n",
       "      <th>1</th>\n",
       "      <td>1896</td>\n",
       "      <td>Athens</td>\n",
       "      <td>Aquatics</td>\n",
       "      <td>Swimming</td>\n",
       "      <td>HERSCHMANN, Otto</td>\n",
       "      <td>AUT</td>\n",
       "      <td>Men</td>\n",
       "      <td>100M Freestyle</td>\n",
       "      <td>Silver</td>\n",
       "    </tr>\n",
       "    <tr>\n",
       "      <th>2</th>\n",
       "      <td>1896</td>\n",
       "      <td>Athens</td>\n",
       "      <td>Aquatics</td>\n",
       "      <td>Swimming</td>\n",
       "      <td>DRIVAS, Dimitrios</td>\n",
       "      <td>GRE</td>\n",
       "      <td>Men</td>\n",
       "      <td>100M Freestyle For Sailors</td>\n",
       "      <td>Bronze</td>\n",
       "    </tr>\n",
       "    <tr>\n",
       "      <th>3</th>\n",
       "      <td>1896</td>\n",
       "      <td>Athens</td>\n",
       "      <td>Aquatics</td>\n",
       "      <td>Swimming</td>\n",
       "      <td>MALOKINIS, Ioannis</td>\n",
       "      <td>GRE</td>\n",
       "      <td>Men</td>\n",
       "      <td>100M Freestyle For Sailors</td>\n",
       "      <td>Gold</td>\n",
       "    </tr>\n",
       "    <tr>\n",
       "      <th>4</th>\n",
       "      <td>1896</td>\n",
       "      <td>Athens</td>\n",
       "      <td>Aquatics</td>\n",
       "      <td>Swimming</td>\n",
       "      <td>CHASAPIS, Spiridon</td>\n",
       "      <td>GRE</td>\n",
       "      <td>Men</td>\n",
       "      <td>100M Freestyle For Sailors</td>\n",
       "      <td>Silver</td>\n",
       "    </tr>\n",
       "  </tbody>\n",
       "</table>\n",
       "</div>"
      ],
      "text/plain": [
       "   Year    City     Sport Discipline             Athlete Country Gender  \\\n",
       "0  1896  Athens  Aquatics   Swimming       HAJOS, Alfred     HUN    Men   \n",
       "1  1896  Athens  Aquatics   Swimming    HERSCHMANN, Otto     AUT    Men   \n",
       "2  1896  Athens  Aquatics   Swimming   DRIVAS, Dimitrios     GRE    Men   \n",
       "3  1896  Athens  Aquatics   Swimming  MALOKINIS, Ioannis     GRE    Men   \n",
       "4  1896  Athens  Aquatics   Swimming  CHASAPIS, Spiridon     GRE    Men   \n",
       "\n",
       "                        Event   Medal  \n",
       "0              100M Freestyle    Gold  \n",
       "1              100M Freestyle  Silver  \n",
       "2  100M Freestyle For Sailors  Bronze  \n",
       "3  100M Freestyle For Sailors    Gold  \n",
       "4  100M Freestyle For Sailors  Silver  "
      ]
     },
     "execution_count": 5,
     "metadata": {},
     "output_type": "execute_result"
    }
   ],
   "source": [
    "olympics_data.head()"
   ]
  },
  {
   "cell_type": "markdown",
   "metadata": {},
   "source": [
    "Columns wise description\n",
    "\n",
    "Year  - years in which Summer olympic games were held\n",
    "\n",
    "City - venue of the olympic games in that year\n",
    "\n",
    "Sport - This column has different sections, can be called as Disciplines\n",
    "\n",
    "Event - Further event is a subset of disciplines\n",
    "\n",
    "Athlete - Name of the sportsperson winning the medal\n",
    "\n",
    "Country - Country which the athlete is representing\n",
    "\n",
    "Gender - Male/Female\n",
    "\n",
    "Medal - Gold/Silver/Bronze"
   ]
  },
  {
   "cell_type": "code",
   "execution_count": 6,
   "metadata": {},
   "outputs": [
    {
     "data": {
      "text/html": [
       "<div>\n",
       "<style scoped>\n",
       "    .dataframe tbody tr th:only-of-type {\n",
       "        vertical-align: middle;\n",
       "    }\n",
       "\n",
       "    .dataframe tbody tr th {\n",
       "        vertical-align: top;\n",
       "    }\n",
       "\n",
       "    .dataframe thead th {\n",
       "        text-align: right;\n",
       "    }\n",
       "</style>\n",
       "<table border=\"1\" class=\"dataframe\">\n",
       "  <thead>\n",
       "    <tr style=\"text-align: right;\">\n",
       "      <th></th>\n",
       "      <th>Year</th>\n",
       "      <th>City</th>\n",
       "      <th>Sport</th>\n",
       "      <th>Discipline</th>\n",
       "      <th>Athlete</th>\n",
       "      <th>Country</th>\n",
       "      <th>Gender</th>\n",
       "      <th>Event</th>\n",
       "      <th>Medal</th>\n",
       "    </tr>\n",
       "  </thead>\n",
       "  <tbody>\n",
       "    <tr>\n",
       "      <th>31160</th>\n",
       "      <td>2012</td>\n",
       "      <td>London</td>\n",
       "      <td>Wrestling</td>\n",
       "      <td>Wrestling Freestyle</td>\n",
       "      <td>JANIKOWSKI, Damian</td>\n",
       "      <td>POL</td>\n",
       "      <td>Men</td>\n",
       "      <td>Wg 84 KG</td>\n",
       "      <td>Bronze</td>\n",
       "    </tr>\n",
       "    <tr>\n",
       "      <th>31161</th>\n",
       "      <td>2012</td>\n",
       "      <td>London</td>\n",
       "      <td>Wrestling</td>\n",
       "      <td>Wrestling Freestyle</td>\n",
       "      <td>REZAEI, Ghasem Gholamreza</td>\n",
       "      <td>IRI</td>\n",
       "      <td>Men</td>\n",
       "      <td>Wg 96 KG</td>\n",
       "      <td>Gold</td>\n",
       "    </tr>\n",
       "    <tr>\n",
       "      <th>31162</th>\n",
       "      <td>2012</td>\n",
       "      <td>London</td>\n",
       "      <td>Wrestling</td>\n",
       "      <td>Wrestling Freestyle</td>\n",
       "      <td>TOTROV, Rustam</td>\n",
       "      <td>RUS</td>\n",
       "      <td>Men</td>\n",
       "      <td>Wg 96 KG</td>\n",
       "      <td>Silver</td>\n",
       "    </tr>\n",
       "    <tr>\n",
       "      <th>31163</th>\n",
       "      <td>2012</td>\n",
       "      <td>London</td>\n",
       "      <td>Wrestling</td>\n",
       "      <td>Wrestling Freestyle</td>\n",
       "      <td>ALEKSANYAN, Artur</td>\n",
       "      <td>ARM</td>\n",
       "      <td>Men</td>\n",
       "      <td>Wg 96 KG</td>\n",
       "      <td>Bronze</td>\n",
       "    </tr>\n",
       "    <tr>\n",
       "      <th>31164</th>\n",
       "      <td>2012</td>\n",
       "      <td>London</td>\n",
       "      <td>Wrestling</td>\n",
       "      <td>Wrestling Freestyle</td>\n",
       "      <td>LIDBERG, Jimmy</td>\n",
       "      <td>SWE</td>\n",
       "      <td>Men</td>\n",
       "      <td>Wg 96 KG</td>\n",
       "      <td>Bronze</td>\n",
       "    </tr>\n",
       "  </tbody>\n",
       "</table>\n",
       "</div>"
      ],
      "text/plain": [
       "       Year    City      Sport           Discipline  \\\n",
       "31160  2012  London  Wrestling  Wrestling Freestyle   \n",
       "31161  2012  London  Wrestling  Wrestling Freestyle   \n",
       "31162  2012  London  Wrestling  Wrestling Freestyle   \n",
       "31163  2012  London  Wrestling  Wrestling Freestyle   \n",
       "31164  2012  London  Wrestling  Wrestling Freestyle   \n",
       "\n",
       "                         Athlete Country Gender     Event   Medal  \n",
       "31160         JANIKOWSKI, Damian     POL    Men  Wg 84 KG  Bronze  \n",
       "31161  REZAEI, Ghasem Gholamreza     IRI    Men  Wg 96 KG    Gold  \n",
       "31162             TOTROV, Rustam     RUS    Men  Wg 96 KG  Silver  \n",
       "31163          ALEKSANYAN, Artur     ARM    Men  Wg 96 KG  Bronze  \n",
       "31164             LIDBERG, Jimmy     SWE    Men  Wg 96 KG  Bronze  "
      ]
     },
     "execution_count": 6,
     "metadata": {},
     "output_type": "execute_result"
    }
   ],
   "source": [
    "olympics_data.tail()                     #This will print the last 5 rows of the Data Frame"
   ]
  },
  {
   "cell_type": "code",
   "execution_count": 7,
   "metadata": {},
   "outputs": [
    {
     "name": "stdout",
     "output_type": "stream",
     "text": [
      "<class 'pandas.core.frame.DataFrame'>\n",
      "RangeIndex: 31165 entries, 0 to 31164\n",
      "Data columns (total 9 columns):\n",
      "Year          31165 non-null int64\n",
      "City          31165 non-null object\n",
      "Sport         31165 non-null object\n",
      "Discipline    31165 non-null object\n",
      "Athlete       31165 non-null object\n",
      "Country       31161 non-null object\n",
      "Gender        31165 non-null object\n",
      "Event         31165 non-null object\n",
      "Medal         31165 non-null object\n",
      "dtypes: int64(1), object(8)\n",
      "memory usage: 2.1+ MB\n"
     ]
    }
   ],
   "source": [
    "olympics_data.info()                                         # This will give Index, Datatype and Memory information"
   ]
  },
  {
   "cell_type": "code",
   "execution_count": 8,
   "metadata": {},
   "outputs": [
    {
     "data": {
      "text/html": [
       "<div>\n",
       "<style scoped>\n",
       "    .dataframe tbody tr th:only-of-type {\n",
       "        vertical-align: middle;\n",
       "    }\n",
       "\n",
       "    .dataframe tbody tr th {\n",
       "        vertical-align: top;\n",
       "    }\n",
       "\n",
       "    .dataframe thead th {\n",
       "        text-align: right;\n",
       "    }\n",
       "</style>\n",
       "<table border=\"1\" class=\"dataframe\">\n",
       "  <thead>\n",
       "    <tr style=\"text-align: right;\">\n",
       "      <th></th>\n",
       "      <th>Year</th>\n",
       "    </tr>\n",
       "  </thead>\n",
       "  <tbody>\n",
       "    <tr>\n",
       "      <th>count</th>\n",
       "      <td>31165.000000</td>\n",
       "    </tr>\n",
       "    <tr>\n",
       "      <th>mean</th>\n",
       "      <td>1970.482785</td>\n",
       "    </tr>\n",
       "    <tr>\n",
       "      <th>std</th>\n",
       "      <td>33.158416</td>\n",
       "    </tr>\n",
       "    <tr>\n",
       "      <th>min</th>\n",
       "      <td>1896.000000</td>\n",
       "    </tr>\n",
       "    <tr>\n",
       "      <th>25%</th>\n",
       "      <td>1948.000000</td>\n",
       "    </tr>\n",
       "    <tr>\n",
       "      <th>50%</th>\n",
       "      <td>1980.000000</td>\n",
       "    </tr>\n",
       "    <tr>\n",
       "      <th>75%</th>\n",
       "      <td>2000.000000</td>\n",
       "    </tr>\n",
       "    <tr>\n",
       "      <th>max</th>\n",
       "      <td>2012.000000</td>\n",
       "    </tr>\n",
       "  </tbody>\n",
       "</table>\n",
       "</div>"
      ],
      "text/plain": [
       "               Year\n",
       "count  31165.000000\n",
       "mean    1970.482785\n",
       "std       33.158416\n",
       "min     1896.000000\n",
       "25%     1948.000000\n",
       "50%     1980.000000\n",
       "75%     2000.000000\n",
       "max     2012.000000"
      ]
     },
     "execution_count": 8,
     "metadata": {},
     "output_type": "execute_result"
    }
   ],
   "source": [
    "olympics_data.describe()"
   ]
  },
  {
   "cell_type": "code",
   "execution_count": 9,
   "metadata": {},
   "outputs": [
    {
     "data": {
      "text/plain": [
       "Year          0\n",
       "City          0\n",
       "Sport         0\n",
       "Discipline    0\n",
       "Athlete       0\n",
       "Country       4\n",
       "Gender        0\n",
       "Event         0\n",
       "Medal         0\n",
       "dtype: int64"
      ]
     },
     "execution_count": 9,
     "metadata": {},
     "output_type": "execute_result"
    }
   ],
   "source": [
    "olympics_data.isnull().sum()"
   ]
  },
  {
   "cell_type": "markdown",
   "metadata": {},
   "source": [
    "From the above output we can see that only Country column contains null values"
   ]
  },
  {
   "cell_type": "markdown",
   "metadata": {},
   "source": [
    "### 3.2 Pre profiling"
   ]
  },
  {
   "cell_type": "markdown",
   "metadata": {},
   "source": [
    "1. By pandas profiling, an interactive HTML report gets generated which contins all the information about the columns of the \n",
    "   dataset, like the counts and type of each column. Detailed information about each column, coorelation between different\n",
    "   columns and a sample of dataset.\n",
    "2. It gives us visual interpretation of each column in the data.\n",
    "3. Spread of the data can be better understood by the distribution plot.\n",
    "4. Grannular level analysis of each column."
   ]
  },
  {
   "cell_type": "code",
   "execution_count": 10,
   "metadata": {},
   "outputs": [],
   "source": [
    "profile = pandas_profiling.ProfileReport(olympics_data)\n",
    "profile.to_file(output_file= \"olympics_data_before_preprocessing.html\")"
   ]
  },
  {
   "cell_type": "markdown",
   "metadata": {},
   "source": [
    "As the name suggests, this profiling is done before preprocessing, hence the name \"olympics_data_before_preprocessing.html\".\n",
    "Let us have a look on the file and see what useful insights can be drawn.\n",
    "Based on that, we will preprocess the data to gain a better understanding."
   ]
  },
  {
   "cell_type": "markdown",
   "metadata": {},
   "source": [
    "### 3.3 Pre processing"
   ]
  },
  {
   "cell_type": "markdown",
   "metadata": {},
   "source": [
    "Actionable items:\n",
    "1) Remove duplicate rows from the dataset.\n",
    "2) Dealing with missing values in 'Country' column\n"
   ]
  },
  {
   "cell_type": "code",
   "execution_count": 11,
   "metadata": {},
   "outputs": [],
   "source": [
    "olympics_data.drop_duplicates(keep='first',inplace=True)     # Removing duplicates, but keeping the first occurrence"
   ]
  },
  {
   "cell_type": "code",
   "execution_count": 12,
   "metadata": {},
   "outputs": [],
   "source": [
    "# Replacing missing cells in Country column\n",
    "olympics_data.Country = olympics_data.Country.fillna(olympics_data['Country'].mode()[0])"
   ]
  },
  {
   "cell_type": "markdown",
   "metadata": {},
   "source": [
    "### 3.4 Post Pandas Profiling"
   ]
  },
  {
   "cell_type": "code",
   "execution_count": 13,
   "metadata": {},
   "outputs": [],
   "source": [
    "profile = pandas_profiling.ProfileReport(olympics_data)\n",
    "profile.to_file(output_file= \"olympics_data_after_preprocessing.html\")"
   ]
  },
  {
   "cell_type": "markdown",
   "metadata": {},
   "source": [
    "As we are done with preprocessing of data, the dataset does not contain any duplicate rows or missing values.\n",
    "From the data obtained after preprocessing, below insights are drawn.\n",
    "\n",
    "1) Total of 147 countries have won medals.\n",
    "2) 22762 sportspersons have won medals for their countries in 67 different disciplines.\n",
    "3) A discipline can contain multiple events.\n",
    "4) From 1896 to 2012, summer olympics took place in 22 different cities.\n",
    "5) Michael Phelps is topping the medal list till 2012."
   ]
  },
  {
   "cell_type": "code",
   "execution_count": 14,
   "metadata": {},
   "outputs": [
    {
     "name": "stdout",
     "output_type": "stream",
     "text": [
      "<class 'pandas.core.frame.DataFrame'>\n",
      "Int64Index: 31163 entries, 0 to 31164\n",
      "Data columns (total 9 columns):\n",
      "Year          31163 non-null int64\n",
      "City          31163 non-null object\n",
      "Sport         31163 non-null object\n",
      "Discipline    31163 non-null object\n",
      "Athlete       31163 non-null object\n",
      "Country       31163 non-null object\n",
      "Gender        31163 non-null object\n",
      "Event         31163 non-null object\n",
      "Medal         31163 non-null object\n",
      "dtypes: int64(1), object(8)\n",
      "memory usage: 2.4+ MB\n"
     ]
    }
   ],
   "source": [
    "olympics_data.info()"
   ]
  },
  {
   "cell_type": "markdown",
   "metadata": {},
   "source": [
    "# 4. Questions"
   ]
  },
  {
   "cell_type": "markdown",
   "metadata": {},
   "source": [
    "### 4.1 Of the total dataset, how many medals are gold, silver and bronze?"
   ]
  },
  {
   "cell_type": "code",
   "execution_count": 15,
   "metadata": {},
   "outputs": [
    {
     "data": {
      "text/plain": [
       "Text(0.5, 1.0, 'Bar Chart showing the Number of Medals of each type')"
      ]
     },
     "execution_count": 15,
     "metadata": {},
     "output_type": "execute_result"
    },
    {
     "data": {
      "image/png": "[encoded data removed]",
      "text/plain": [
       "<Figure size 432x288 with 1 Axes>"
      ]
     },
     "metadata": {
      "needs_background": "light"
     },
     "output_type": "display_data"
    }
   ],
   "source": [
    "olympics_data['Medal'].value_counts().plot.bar(figsize=(6,4), colormap='Dark2', fontsize=10)\n",
    "\n",
    "# Using matplotlib to add labels and title to the plot.\n",
    "plt.xlabel('Medal Type', fontsize=10)\n",
    "plt.ylabel('Number of Medals', fontsize=10)\n",
    "plt.title('Bar Chart showing the Number of Medals of each type', fontsize=10)"
   ]
  },
  {
   "cell_type": "markdown",
   "metadata": {},
   "source": [
    "From the bar graph, we can see that the number of gold medals is the highest followed by bronze.\n",
    "Let us the get the exact count of the number of medals won."
   ]
  },
  {
   "cell_type": "code",
   "execution_count": 16,
   "metadata": {},
   "outputs": [
    {
     "data": {
      "text/plain": [
       "Medal\n",
       "Silver    10310\n",
       "Bronze    10369\n",
       "Gold      10484\n",
       "Name: Medal, dtype: int64"
      ]
     },
     "execution_count": 16,
     "metadata": {},
     "output_type": "execute_result"
    }
   ],
   "source": [
    "olympics_data.groupby(['Medal'])['Medal'].count().sort_values()"
   ]
  },
  {
   "cell_type": "markdown",
   "metadata": {},
   "source": [
    "### 4.2 Who has been awarded more number of medals? Male or female?"
   ]
  },
  {
   "cell_type": "code",
   "execution_count": 17,
   "metadata": {},
   "outputs": [
    {
     "data": {
      "text/plain": [
       "Text(0.5, 1.0, 'Bar Chart showing the Number of Medals of each type')"
      ]
     },
     "execution_count": 17,
     "metadata": {},
     "output_type": "execute_result"
    },
    {
     "data": {
      "image/png": "[encoded data removed]",
      "text/plain": [
       "<Figure size 432x288 with 1 Axes>"
      ]
     },
     "metadata": {
      "needs_background": "light"
     },
     "output_type": "display_data"
    }
   ],
   "source": [
    "(olympics_data['Gender'].value_counts() / len(olympics_data)).plot.bar(figsize=(6,4), colormap='Accent', fontsize=10)\n",
    "\n",
    "# Using matplotlib to add labels and title to the plot.\n",
    "plt.xlabel('Medal Type', fontsize=10)\n",
    "plt.ylabel('Proportion of Medals', fontsize=10)\n",
    "plt.title('Bar Chart showing the Number of Medals of each type', fontsize=10)"
   ]
  },
  {
   "cell_type": "markdown",
   "metadata": {},
   "source": [
    "Of the given dataset, it is clear that males have won around 72% of the total medals while females are at 28%."
   ]
  },
  {
   "cell_type": "markdown",
   "metadata": {},
   "source": [
    "### 4.3 Which city has seen the maximum number of medals won by sportspersons?"
   ]
  },
  {
   "cell_type": "code",
   "execution_count": 18,
   "metadata": {},
   "outputs": [
    {
     "data": {
      "text/plain": [
       "Text(0.5, 1.0, 'Donut Plot showing the proportion of medals won in different cities')"
      ]
     },
     "execution_count": 18,
     "metadata": {},
     "output_type": "execute_result"
    },
    {
     "data": {
      "image/png": "[encoded data removed]",
      "text/plain": [
       "<Figure size 864x864 with 1 Axes>"
      ]
     },
     "metadata": {},
     "output_type": "display_data"
    }
   ],
   "source": [
    "count=olympics_data['City'].nunique()\n",
    "space = count * [0.1]\n",
    "olympics_data['City'].value_counts().plot(kind='pie', fontsize=12, explode=space, autopct='%4.1f%%', wedgeprops=dict(width=0.15), \n",
    "                                      shadow=True, startangle=90, legend=True, figsize=(12,12), cmap='inferno')\n",
    "plt.title('Donut Plot showing the proportion of medals won in different cities', fontsize=13)"
   ]
  },
  {
   "cell_type": "markdown",
   "metadata": {},
   "source": [
    "From the above pie chart, it is quite evident that most number of medals have been won at London followed by Athens, Los Angeles, Beijing and so on."
   ]
  },
  {
   "cell_type": "markdown",
   "metadata": {},
   "source": [
    "### 4.4 How is the performance of the men and women considering different medals won by them?"
   ]
  },
  {
   "cell_type": "code",
   "execution_count": 19,
   "metadata": {},
   "outputs": [
    {
     "data": {
      "text/plain": [
       "<matplotlib.axes._subplots.AxesSubplot at 0x29c22b12710>"
      ]
     },
     "execution_count": 19,
     "metadata": {},
     "output_type": "execute_result"
    },
    {
     "data": {
      "image/png": "[encoded data removed]",
      "text/plain": [
       "<Figure size 432x288 with 1 Axes>"
      ]
     },
     "metadata": {
      "needs_background": "light"
     },
     "output_type": "display_data"
    }
   ],
   "source": [
    "sns.countplot('Medal',data=olympics_data, hue='Gender')"
   ]
  },
  {
   "cell_type": "markdown",
   "metadata": {},
   "source": [
    "From the above countplot, below inferences can be drawn:\n",
    "Men have won more gold medals than silver or bronze. However, the number of gold, silver and bronze medals won by women are roughly identical.\n",
    "Let's get the exact count"
   ]
  },
  {
   "cell_type": "code",
   "execution_count": 20,
   "metadata": {},
   "outputs": [
    {
     "data": {
      "text/plain": [
       "7697"
      ]
     },
     "execution_count": 20,
     "metadata": {},
     "output_type": "execute_result"
    }
   ],
   "source": [
    "len(olympics_data[(olympics_data['Medal']=='Gold') & (olympics_data['Gender']=='Men')]) # Number of gold medals won by men"
   ]
  },
  {
   "cell_type": "code",
   "execution_count": 21,
   "metadata": {},
   "outputs": [
    {
     "data": {
      "text/plain": [
       "2787"
      ]
     },
     "execution_count": 21,
     "metadata": {},
     "output_type": "execute_result"
    }
   ],
   "source": [
    "len(olympics_data[(olympics_data['Medal']=='Gold') & (olympics_data['Gender']=='Women')]) # Number of gold medals won by women"
   ]
  },
  {
   "cell_type": "code",
   "execution_count": 22,
   "metadata": {},
   "outputs": [
    {
     "data": {
      "text/plain": [
       "7509"
      ]
     },
     "execution_count": 22,
     "metadata": {},
     "output_type": "execute_result"
    }
   ],
   "source": [
    "len(olympics_data[(olympics_data['Medal']=='Silver') & (olympics_data['Gender']=='Men')]) # Number of silver medals won by men"
   ]
  },
  {
   "cell_type": "code",
   "execution_count": 23,
   "metadata": {},
   "outputs": [
    {
     "data": {
      "text/plain": [
       "2801"
      ]
     },
     "execution_count": 23,
     "metadata": {},
     "output_type": "execute_result"
    }
   ],
   "source": [
    "len(olympics_data[(olympics_data['Medal']=='Silver') & (olympics_data['Gender']=='Women')]) # Number of silver medals won by women"
   ]
  },
  {
   "cell_type": "code",
   "execution_count": 24,
   "metadata": {},
   "outputs": [
    {
     "data": {
      "text/plain": [
       "7539"
      ]
     },
     "execution_count": 24,
     "metadata": {},
     "output_type": "execute_result"
    }
   ],
   "source": [
    "len(olympics_data[(olympics_data['Medal']=='Bronze') & (olympics_data['Gender']=='Men')]) # Number of bronze medals won by men"
   ]
  },
  {
   "cell_type": "code",
   "execution_count": 25,
   "metadata": {},
   "outputs": [
    {
     "data": {
      "text/plain": [
       "2830"
      ]
     },
     "execution_count": 25,
     "metadata": {},
     "output_type": "execute_result"
    }
   ],
   "source": [
    "len(olympics_data[(olympics_data['Medal']=='Bronze') & (olympics_data['Gender']=='Women')]) # Number of bronze medals won by women"
   ]
  },
  {
   "cell_type": "code",
   "execution_count": 26,
   "metadata": {},
   "outputs": [
    {
     "data": {
      "text/plain": [
       "Text(0.5, 1.0, 'Performance of Female Athletes over time')"
      ]
     },
     "execution_count": 26,
     "metadata": {},
     "output_type": "execute_result"
    },
    {
     "data": {
      "image/png": "[encoded data removed]",
      "text/plain": [
       "<Figure size 1440x720 with 1 Axes>"
      ]
     },
     "metadata": {
      "needs_background": "light"
     },
     "output_type": "display_data"
    }
   ],
   "source": [
    "medalwrtgender=olympics_data.groupby('Year')['Gender'].value_counts()\n",
    "plt.figure(figsize=(20, 10))\n",
    "medalwrtgender.loc[:,'Women'].plot()\n",
    "plt.title('Performance of Female Athletes over time')"
   ]
  },
  {
   "cell_type": "code",
   "execution_count": 27,
   "metadata": {},
   "outputs": [
    {
     "data": {
      "text/plain": [
       "Text(0.5, 1.0, 'Performance of Male Athletes over time')"
      ]
     },
     "execution_count": 27,
     "metadata": {},
     "output_type": "execute_result"
    },
    {
     "data": {
      "image/png": "[encoded data removed]",
      "text/plain": [
       "<Figure size 1440x720 with 1 Axes>"
      ]
     },
     "metadata": {
      "needs_background": "light"
     },
     "output_type": "display_data"
    }
   ],
   "source": [
    "medalwrtgender=olympics_data.groupby('Year')['Gender'].value_counts()\n",
    "plt.figure(figsize=(20, 10))\n",
    "medalwrtgender.loc[:,'Men'].plot()\n",
    "plt.title('Performance of Male Athletes over time')"
   ]
  },
  {
   "cell_type": "markdown",
   "metadata": {},
   "source": [
    "What we can immediately see is that for women:\n",
    "We have a steep increase in the medal tally.\n",
    "Women tend to perform better over the years.\n",
    "\n",
    "On the other hand, the growth for men seems less strong."
   ]
  },
  {
   "cell_type": "markdown",
   "metadata": {},
   "source": [
    "### 4.5 How the medals are distributed in different sports?"
   ]
  },
  {
   "cell_type": "code",
   "execution_count": 28,
   "metadata": {},
   "outputs": [
    {
     "data": {
      "text/plain": [
       "Text(0.5, 1.0, 'Relation Between Pclass and Embarked')"
      ]
     },
     "execution_count": 28,
     "metadata": {},
     "output_type": "execute_result"
    },
    {
     "data": {
      "image/png": "[encoded data removed]",
      "text/plain": [
       "<Figure size 1296x1008 with 1 Axes>"
      ]
     },
     "metadata": {
      "needs_background": "light"
     },
     "output_type": "display_data"
    }
   ],
   "source": [
    "relation = pd.crosstab( olympics_data.Sport, olympics_data.Medal )\n",
    "relation.plot.barh(figsize=(18,14))\n",
    "plt.xticks(size = 22)\n",
    "plt.yticks(size = 18)\n",
    "plt.title('Relation Between Pclass and Embarked',size=20)"
   ]
  },
  {
   "cell_type": "markdown",
   "metadata": {},
   "source": [
    "#### Below inferences can be drawn basis above plot:\n",
    "\n",
    "1)Number of medals is highest in Aquatics sport segments. This may imply that aquatics hold many events or aquatics is \n",
    "   present in Olympics since a long time.\n",
    "2)After aquatics, number of medals is highest in athletics, followed by Rowing, Gymnastics and so on.\n",
    "Many countries who have not done fairly well can concentrate more on these sports so that chances of them getting a medal can increase."
   ]
  },
  {
   "cell_type": "markdown",
   "metadata": {},
   "source": [
    "### 4.6 Distribution of medals won by different countries till date."
   ]
  },
  {
   "cell_type": "markdown",
   "metadata": {},
   "source": [
    "We have a total of 147 countries winning medals in different events."
   ]
  },
  {
   "cell_type": "code",
   "execution_count": 29,
   "metadata": {},
   "outputs": [
    {
     "data": {
      "text/plain": [
       "147"
      ]
     },
     "execution_count": 29,
     "metadata": {},
     "output_type": "execute_result"
    }
   ],
   "source": [
    "olympics_data['Country'].nunique()"
   ]
  },
  {
   "cell_type": "markdown",
   "metadata": {},
   "source": [
    "Let's study the top 30 countries in terms of medal won from the dataset."
   ]
  },
  {
   "cell_type": "code",
   "execution_count": 30,
   "metadata": {},
   "outputs": [],
   "source": [
    "medalcount=olympics_data.Country.value_counts().reset_index(name='Medal').head(30)"
   ]
  },
  {
   "cell_type": "code",
   "execution_count": 31,
   "metadata": {},
   "outputs": [
    {
     "data": {
      "text/plain": [
       "Text(0.5, 1, 'Medals per Country')"
      ]
     },
     "execution_count": 31,
     "metadata": {},
     "output_type": "execute_result"
    },
    {
     "data": {
      "image/png": "[encoded data removed]",
      "text/plain": [
       "<Figure size 1080x1080 with 1 Axes>"
      ]
     },
     "metadata": {
      "needs_background": "light"
     },
     "output_type": "display_data"
    }
   ],
   "source": [
    "med=sns.catplot(x=\"index\", y=\"Medal\", data=medalcount,\n",
    "                height=15, kind=\"bar\", palette=\"muted\")\n",
    "med.set_xlabels(\"Top 30 countries\")\n",
    "med.set_ylabels(\"Number of Medals\")\n",
    "plt.title('Medals per Country')"
   ]
  },
  {
   "cell_type": "markdown",
   "metadata": {},
   "source": [
    "USA is topping the chart with more than 4500 medals followed by Soviet Union(now Russia), Great Britain, France and Italy.\n",
    "India is nowhere to be seen :("
   ]
  },
  {
   "cell_type": "markdown",
   "metadata": {},
   "source": [
    "Correlation of features."
   ]
  },
  {
   "cell_type": "code",
   "execution_count": 32,
   "metadata": {},
   "outputs": [],
   "source": [
    "olympics_new = olympics_data.copy(deep=True)   "
   ]
  },
  {
   "cell_type": "code",
   "execution_count": 33,
   "metadata": {},
   "outputs": [],
   "source": [
    "from sklearn.preprocessing import LabelEncoder                                    # Label encoder is used to transform non-numerical labels to numerical labels.\n",
    "number = LabelEncoder()                                                           # Here as our data set consists only of categorical values except age\n",
    "for i in olympics_new.columns:                                                          # in order to find the correlation between variables, we do Label encoding \n",
    "    olympics_new[i] = number.fit_transform(olympics_new[i].astype('str'))"
   ]
  },
  {
   "cell_type": "code",
   "execution_count": 34,
   "metadata": {},
   "outputs": [
    {
     "data": {
      "text/plain": [
       "Medal         1.000000\n",
       "Event         0.014555\n",
       "Country       0.008974\n",
       "Discipline    0.002408\n",
       "Sport         0.000854\n",
       "City         -0.000599\n",
       "Gender       -0.001159\n",
       "Athlete      -0.003114\n",
       "Year         -0.028650\n",
       "Name: Medal, dtype: float64"
      ]
     },
     "execution_count": 34,
     "metadata": {},
     "output_type": "execute_result"
    }
   ],
   "source": [
    "corr=olympics_new.corr()['Medal']\n",
    "corr[np.argsort(corr,axis=0)[::-1]]"
   ]
  },
  {
   "cell_type": "code",
   "execution_count": 35,
   "metadata": {},
   "outputs": [
    {
     "data": {
      "image/png": "[encoded data removed]",
      "text/plain": [
       "<Figure size 576x576 with 2 Axes>"
      ]
     },
     "metadata": {
      "needs_background": "light"
     },
     "output_type": "display_data"
    }
   ],
   "source": [
    "features_correlation = olympics_new.corr()\n",
    "plt.figure(figsize=(8,8))\n",
    "sns.heatmap(features_correlation,vmax=1,square=True,annot=False,cmap='Greens')\n",
    "plt.show()"
   ]
  },
  {
   "cell_type": "markdown",
   "metadata": {},
   "source": [
    "Observation:\n",
    "Sport and discipline are highly correlated. Also, we see a mild positive correlation between Gender(Men is labelled as 0, Women is labelled as 1) and Year(1896 is labelled as 0 and so on) which we had discussed above."
   ]
  },
  {
   "cell_type": "markdown",
   "metadata": {},
   "source": [
    "### 4.7 Best performing country at Summer Olympics yearwise."
   ]
  },
  {
   "cell_type": "markdown",
   "metadata": {},
   "source": [
    "Let's have a look on the dataset and find the best performing country every year. In this case, I am measuring performance on the basis of total number of medals won."
   ]
  },
  {
   "cell_type": "code",
   "execution_count": 36,
   "metadata": {},
   "outputs": [
    {
     "name": "stdout",
     "output_type": "stream",
     "text": [
      "<class 'pandas.core.frame.DataFrame'>\n",
      "Int64Index: 31163 entries, 0 to 31164\n",
      "Data columns (total 10 columns):\n",
      "Year          31163 non-null int64\n",
      "City          31163 non-null object\n",
      "Sport         31163 non-null object\n",
      "Discipline    31163 non-null object\n",
      "Athlete       31163 non-null object\n",
      "Country       31163 non-null object\n",
      "Gender        31163 non-null object\n",
      "Event         31163 non-null object\n",
      "Medal         31163 non-null object\n",
      "Medalcount    31163 non-null int64\n",
      "dtypes: int64(2), object(8)\n",
      "memory usage: 2.6+ MB\n"
     ]
    }
   ],
   "source": [
    "ol=olympics_data.copy(deep=True)    # Creating a copy of the dataset to add one numeric column as Medalcount\n",
    "ol['Medalcount']=1\n",
    "ol.info()"
   ]
  },
  {
   "cell_type": "code",
   "execution_count": 37,
   "metadata": {},
   "outputs": [],
   "source": [
    "groupYearCountry = ol.groupby(by=['Year','Country'],as_index=False).sum()  # Grouping the dataset by year and country"
   ]
  },
  {
   "cell_type": "code",
   "execution_count": 38,
   "metadata": {},
   "outputs": [],
   "source": [
    "groupYearCountry = groupYearCountry.groupby(by=['Year','Country'],as_index=False).sum()"
   ]
  },
  {
   "cell_type": "markdown",
   "metadata": {},
   "source": [
    "For a particular year, it sorts according to Medalcount column in descending order, so the country with most medals that year will be at top.\n",
    "So, taking head(1) means taking only the top row."
   ]
  },
  {
   "cell_type": "code",
   "execution_count": 39,
   "metadata": {},
   "outputs": [],
   "source": [
    "yeartop = pd.DataFrame() \n",
    "y = ol.Year.unique()                    #Gets the Year numbers\n",
    "for i in y:\n",
    "    yeartop = pd.concat([yeartop,groupYearCountry[groupYearCountry['Year'] == i].sort_values(by=['Medalcount'],ascending= False).head(1)])"
   ]
  },
  {
   "cell_type": "code",
   "execution_count": 40,
   "metadata": {},
   "outputs": [
    {
     "data": {
      "image/png": "[encoded data removed]",
      "text/plain": [
       "<Figure size 864x648 with 1 Axes>"
      ]
     },
     "metadata": {
      "needs_background": "light"
     },
     "output_type": "display_data"
    }
   ],
   "source": [
    "import pylab as plt\n",
    "fig, ax = plt.subplots()\n",
    "fig.set_size_inches(12, 9)\n",
    "sns.barplot('Year','Medalcount',hue='Country',data = yeartop)\n",
    "def change_width(ax, new_value) :                                              # writing a function to increase the bar width\n",
    "    for patch in ax.patches :\n",
    "        current_width = patch.get_width()\n",
    "        diff = current_width - new_value\n",
    "        # we change the bar width\n",
    "        patch.set_width(new_value)\n",
    "\n",
    "        # we recenter the bar\n",
    "        patch.set_x(patch.get_x() + diff * .5)\n",
    "change_width(ax, 0.50)\n",
    "plt.show()"
   ]
  },
  {
   "cell_type": "markdown",
   "metadata": {},
   "source": [
    "From the above plot it is quite evident that: \n",
    "1.USA(green bar) is the top performing country most of the time. \n",
    "2.URS(Soviet Union) had been exceptional performers during 1956 to 1980. But USA surpassed them during 90s. One reason behind\n",
    "  this may be the disintegration of USSR during that time. Many countries disintegrated from Soviet Union and thus numerous  \n",
    "  athletes started representing their own countries, for example, Uzbekistan, Ukraine, Kazakhstan.\n",
    "3.Germany has been top performer during Nazi rule in 1936. Germany was one of the most developed nation during that time.\n",
    "4.Olympics did not happen during world wars in the year 1916, 1940 and 1944."
   ]
  },
  {
   "cell_type": "markdown",
   "metadata": {},
   "source": [
    "### 4.8 Performance of India at Summer Olympics"
   ]
  },
  {
   "cell_type": "code",
   "execution_count": 41,
   "metadata": {},
   "outputs": [
    {
     "data": {
      "text/html": [
       "<div>\n",
       "<style scoped>\n",
       "    .dataframe tbody tr th:only-of-type {\n",
       "        vertical-align: middle;\n",
       "    }\n",
       "\n",
       "    .dataframe tbody tr th {\n",
       "        vertical-align: top;\n",
       "    }\n",
       "\n",
       "    .dataframe thead th {\n",
       "        text-align: right;\n",
       "    }\n",
       "</style>\n",
       "<table border=\"1\" class=\"dataframe\">\n",
       "  <thead>\n",
       "    <tr style=\"text-align: right;\">\n",
       "      <th></th>\n",
       "      <th>Year</th>\n",
       "      <th>City</th>\n",
       "      <th>Sport</th>\n",
       "      <th>Discipline</th>\n",
       "      <th>Athlete</th>\n",
       "      <th>Country</th>\n",
       "      <th>Gender</th>\n",
       "      <th>Event</th>\n",
       "      <th>Medal</th>\n",
       "    </tr>\n",
       "  </thead>\n",
       "  <tbody>\n",
       "    <tr>\n",
       "      <th>241</th>\n",
       "      <td>1900</td>\n",
       "      <td>Paris</td>\n",
       "      <td>Athletics</td>\n",
       "      <td>Athletics</td>\n",
       "      <td>PRITCHARD, Norman</td>\n",
       "      <td>IND</td>\n",
       "      <td>Men</td>\n",
       "      <td>200M</td>\n",
       "      <td>Silver</td>\n",
       "    </tr>\n",
       "    <tr>\n",
       "      <th>244</th>\n",
       "      <td>1900</td>\n",
       "      <td>Paris</td>\n",
       "      <td>Athletics</td>\n",
       "      <td>Athletics</td>\n",
       "      <td>PRITCHARD, Norman</td>\n",
       "      <td>IND</td>\n",
       "      <td>Men</td>\n",
       "      <td>200M Hurdles</td>\n",
       "      <td>Silver</td>\n",
       "    </tr>\n",
       "    <tr>\n",
       "      <th>5512</th>\n",
       "      <td>1928</td>\n",
       "      <td>Amsterdam</td>\n",
       "      <td>Hockey</td>\n",
       "      <td>Hockey</td>\n",
       "      <td>ALLEN, Richard James</td>\n",
       "      <td>IND</td>\n",
       "      <td>Men</td>\n",
       "      <td>Hockey</td>\n",
       "      <td>Gold</td>\n",
       "    </tr>\n",
       "    <tr>\n",
       "      <th>5513</th>\n",
       "      <td>1928</td>\n",
       "      <td>Amsterdam</td>\n",
       "      <td>Hockey</td>\n",
       "      <td>Hockey</td>\n",
       "      <td>CHAND, Dyan</td>\n",
       "      <td>IND</td>\n",
       "      <td>Men</td>\n",
       "      <td>Hockey</td>\n",
       "      <td>Gold</td>\n",
       "    </tr>\n",
       "    <tr>\n",
       "      <th>5514</th>\n",
       "      <td>1928</td>\n",
       "      <td>Amsterdam</td>\n",
       "      <td>Hockey</td>\n",
       "      <td>Hockey</td>\n",
       "      <td>GATELEY, Maurice A.</td>\n",
       "      <td>IND</td>\n",
       "      <td>Men</td>\n",
       "      <td>Hockey</td>\n",
       "      <td>Gold</td>\n",
       "    </tr>\n",
       "    <tr>\n",
       "      <th>5515</th>\n",
       "      <td>1928</td>\n",
       "      <td>Amsterdam</td>\n",
       "      <td>Hockey</td>\n",
       "      <td>Hockey</td>\n",
       "      <td>GILL, K. S.</td>\n",
       "      <td>IND</td>\n",
       "      <td>Men</td>\n",
       "      <td>Hockey</td>\n",
       "      <td>Gold</td>\n",
       "    </tr>\n",
       "    <tr>\n",
       "      <th>5516</th>\n",
       "      <td>1928</td>\n",
       "      <td>Amsterdam</td>\n",
       "      <td>Hockey</td>\n",
       "      <td>Hockey</td>\n",
       "      <td>GOODSIR-CULLEN, William John</td>\n",
       "      <td>IND</td>\n",
       "      <td>Men</td>\n",
       "      <td>Hockey</td>\n",
       "      <td>Gold</td>\n",
       "    </tr>\n",
       "    <tr>\n",
       "      <th>5517</th>\n",
       "      <td>1928</td>\n",
       "      <td>Amsterdam</td>\n",
       "      <td>Hockey</td>\n",
       "      <td>Hockey</td>\n",
       "      <td>HAMMOND, Leslie Charles</td>\n",
       "      <td>IND</td>\n",
       "      <td>Men</td>\n",
       "      <td>Hockey</td>\n",
       "      <td>Gold</td>\n",
       "    </tr>\n",
       "    <tr>\n",
       "      <th>5518</th>\n",
       "      <td>1928</td>\n",
       "      <td>Amsterdam</td>\n",
       "      <td>Hockey</td>\n",
       "      <td>Hockey</td>\n",
       "      <td>KHAN, Feroze Uddin</td>\n",
       "      <td>IND</td>\n",
       "      <td>Men</td>\n",
       "      <td>Hockey</td>\n",
       "      <td>Gold</td>\n",
       "    </tr>\n",
       "    <tr>\n",
       "      <th>5519</th>\n",
       "      <td>1928</td>\n",
       "      <td>Amsterdam</td>\n",
       "      <td>Hockey</td>\n",
       "      <td>Hockey</td>\n",
       "      <td>MARTHINS, George E.</td>\n",
       "      <td>IND</td>\n",
       "      <td>Men</td>\n",
       "      <td>Hockey</td>\n",
       "      <td>Gold</td>\n",
       "    </tr>\n",
       "    <tr>\n",
       "      <th>5520</th>\n",
       "      <td>1928</td>\n",
       "      <td>Amsterdam</td>\n",
       "      <td>Hockey</td>\n",
       "      <td>Hockey</td>\n",
       "      <td>NORRIS, Rex A.</td>\n",
       "      <td>IND</td>\n",
       "      <td>Men</td>\n",
       "      <td>Hockey</td>\n",
       "      <td>Gold</td>\n",
       "    </tr>\n",
       "    <tr>\n",
       "      <th>5521</th>\n",
       "      <td>1928</td>\n",
       "      <td>Amsterdam</td>\n",
       "      <td>Hockey</td>\n",
       "      <td>Hockey</td>\n",
       "      <td>PINNIGER, Broome Eric</td>\n",
       "      <td>IND</td>\n",
       "      <td>Men</td>\n",
       "      <td>Hockey</td>\n",
       "      <td>Gold</td>\n",
       "    </tr>\n",
       "    <tr>\n",
       "      <th>5522</th>\n",
       "      <td>1928</td>\n",
       "      <td>Amsterdam</td>\n",
       "      <td>Hockey</td>\n",
       "      <td>Hockey</td>\n",
       "      <td>ROCQUE, Michael E.</td>\n",
       "      <td>IND</td>\n",
       "      <td>Men</td>\n",
       "      <td>Hockey</td>\n",
       "      <td>Gold</td>\n",
       "    </tr>\n",
       "    <tr>\n",
       "      <th>5523</th>\n",
       "      <td>1928</td>\n",
       "      <td>Amsterdam</td>\n",
       "      <td>Hockey</td>\n",
       "      <td>Hockey</td>\n",
       "      <td>SEAMAN, Frederic S.</td>\n",
       "      <td>IND</td>\n",
       "      <td>Men</td>\n",
       "      <td>Hockey</td>\n",
       "      <td>Gold</td>\n",
       "    </tr>\n",
       "    <tr>\n",
       "      <th>5524</th>\n",
       "      <td>1928</td>\n",
       "      <td>Amsterdam</td>\n",
       "      <td>Hockey</td>\n",
       "      <td>Hockey</td>\n",
       "      <td>SHAUKAT, Ali</td>\n",
       "      <td>IND</td>\n",
       "      <td>Men</td>\n",
       "      <td>Hockey</td>\n",
       "      <td>Gold</td>\n",
       "    </tr>\n",
       "    <tr>\n",
       "      <th>5525</th>\n",
       "      <td>1928</td>\n",
       "      <td>Amsterdam</td>\n",
       "      <td>Hockey</td>\n",
       "      <td>Hockey</td>\n",
       "      <td>SINGH, Jaipal</td>\n",
       "      <td>IND</td>\n",
       "      <td>Men</td>\n",
       "      <td>Hockey</td>\n",
       "      <td>Gold</td>\n",
       "    </tr>\n",
       "    <tr>\n",
       "      <th>5526</th>\n",
       "      <td>1928</td>\n",
       "      <td>Amsterdam</td>\n",
       "      <td>Hockey</td>\n",
       "      <td>Hockey</td>\n",
       "      <td>YUSUF, Sayed Mohamed</td>\n",
       "      <td>IND</td>\n",
       "      <td>Men</td>\n",
       "      <td>Hockey</td>\n",
       "      <td>Gold</td>\n",
       "    </tr>\n",
       "    <tr>\n",
       "      <th>6122</th>\n",
       "      <td>1932</td>\n",
       "      <td>Los Angeles</td>\n",
       "      <td>Hockey</td>\n",
       "      <td>Hockey</td>\n",
       "      <td>BAIS, Dhyan Chand</td>\n",
       "      <td>IND</td>\n",
       "      <td>Men</td>\n",
       "      <td>Hockey</td>\n",
       "      <td>Gold</td>\n",
       "    </tr>\n",
       "    <tr>\n",
       "      <th>6123</th>\n",
       "      <td>1932</td>\n",
       "      <td>Los Angeles</td>\n",
       "      <td>Hockey</td>\n",
       "      <td>Hockey</td>\n",
       "      <td>BAIS, Roop Singh</td>\n",
       "      <td>IND</td>\n",
       "      <td>Men</td>\n",
       "      <td>Hockey</td>\n",
       "      <td>Gold</td>\n",
       "    </tr>\n",
       "    <tr>\n",
       "      <th>6124</th>\n",
       "      <td>1932</td>\n",
       "      <td>Los Angeles</td>\n",
       "      <td>Hockey</td>\n",
       "      <td>Hockey</td>\n",
       "      <td>BOKHARI, Lal Shah</td>\n",
       "      <td>IND</td>\n",
       "      <td>Men</td>\n",
       "      <td>Hockey</td>\n",
       "      <td>Gold</td>\n",
       "    </tr>\n",
       "    <tr>\n",
       "      <th>6125</th>\n",
       "      <td>1932</td>\n",
       "      <td>Los Angeles</td>\n",
       "      <td>Hockey</td>\n",
       "      <td>Hockey</td>\n",
       "      <td>CARR, Richard John</td>\n",
       "      <td>IND</td>\n",
       "      <td>Men</td>\n",
       "      <td>Hockey</td>\n",
       "      <td>Gold</td>\n",
       "    </tr>\n",
       "    <tr>\n",
       "      <th>6126</th>\n",
       "      <td>1932</td>\n",
       "      <td>Los Angeles</td>\n",
       "      <td>Hockey</td>\n",
       "      <td>Hockey</td>\n",
       "      <td>HAMMOND, Leslie Charles</td>\n",
       "      <td>IND</td>\n",
       "      <td>Men</td>\n",
       "      <td>Hockey</td>\n",
       "      <td>Gold</td>\n",
       "    </tr>\n",
       "    <tr>\n",
       "      <th>6127</th>\n",
       "      <td>1932</td>\n",
       "      <td>Los Angeles</td>\n",
       "      <td>Hockey</td>\n",
       "      <td>Hockey</td>\n",
       "      <td>HIND, Arthur Charles</td>\n",
       "      <td>IND</td>\n",
       "      <td>Men</td>\n",
       "      <td>Hockey</td>\n",
       "      <td>Gold</td>\n",
       "    </tr>\n",
       "    <tr>\n",
       "      <th>6128</th>\n",
       "      <td>1932</td>\n",
       "      <td>Los Angeles</td>\n",
       "      <td>Hockey</td>\n",
       "      <td>Hockey</td>\n",
       "      <td>JAFFAR, Sayed Mohomed</td>\n",
       "      <td>IND</td>\n",
       "      <td>Men</td>\n",
       "      <td>Hockey</td>\n",
       "      <td>Gold</td>\n",
       "    </tr>\n",
       "    <tr>\n",
       "      <th>6129</th>\n",
       "      <td>1932</td>\n",
       "      <td>Los Angeles</td>\n",
       "      <td>Hockey</td>\n",
       "      <td>Hockey</td>\n",
       "      <td>MINHAS, Masud Ali Khan</td>\n",
       "      <td>IND</td>\n",
       "      <td>Men</td>\n",
       "      <td>Hockey</td>\n",
       "      <td>Gold</td>\n",
       "    </tr>\n",
       "    <tr>\n",
       "      <th>6130</th>\n",
       "      <td>1932</td>\n",
       "      <td>Los Angeles</td>\n",
       "      <td>Hockey</td>\n",
       "      <td>Hockey</td>\n",
       "      <td>PINNIGER, Broome Eric</td>\n",
       "      <td>IND</td>\n",
       "      <td>Men</td>\n",
       "      <td>Hockey</td>\n",
       "      <td>Gold</td>\n",
       "    </tr>\n",
       "    <tr>\n",
       "      <th>6131</th>\n",
       "      <td>1932</td>\n",
       "      <td>Los Angeles</td>\n",
       "      <td>Hockey</td>\n",
       "      <td>Hockey</td>\n",
       "      <td>SINGH KULLAR, Gurmit</td>\n",
       "      <td>IND</td>\n",
       "      <td>Men</td>\n",
       "      <td>Hockey</td>\n",
       "      <td>Gold</td>\n",
       "    </tr>\n",
       "    <tr>\n",
       "      <th>6132</th>\n",
       "      <td>1932</td>\n",
       "      <td>Los Angeles</td>\n",
       "      <td>Hockey</td>\n",
       "      <td>Hockey</td>\n",
       "      <td>TAPSELL, Carlyle Carrol</td>\n",
       "      <td>IND</td>\n",
       "      <td>Men</td>\n",
       "      <td>Hockey</td>\n",
       "      <td>Gold</td>\n",
       "    </tr>\n",
       "    <tr>\n",
       "      <th>6962</th>\n",
       "      <td>1936</td>\n",
       "      <td>Berlin</td>\n",
       "      <td>Hockey</td>\n",
       "      <td>Hockey</td>\n",
       "      <td>ALLEN, Richard James</td>\n",
       "      <td>IND</td>\n",
       "      <td>Men</td>\n",
       "      <td>Hockey</td>\n",
       "      <td>Gold</td>\n",
       "    </tr>\n",
       "    <tr>\n",
       "      <th>6963</th>\n",
       "      <td>1936</td>\n",
       "      <td>Berlin</td>\n",
       "      <td>Hockey</td>\n",
       "      <td>Hockey</td>\n",
       "      <td>BAIS, Dhyan Chand</td>\n",
       "      <td>IND</td>\n",
       "      <td>Men</td>\n",
       "      <td>Hockey</td>\n",
       "      <td>Gold</td>\n",
       "    </tr>\n",
       "    <tr>\n",
       "      <th>...</th>\n",
       "      <td>...</td>\n",
       "      <td>...</td>\n",
       "      <td>...</td>\n",
       "      <td>...</td>\n",
       "      <td>...</td>\n",
       "      <td>...</td>\n",
       "      <td>...</td>\n",
       "      <td>...</td>\n",
       "      <td>...</td>\n",
       "    </tr>\n",
       "    <tr>\n",
       "      <th>13530</th>\n",
       "      <td>1972</td>\n",
       "      <td>Munich</td>\n",
       "      <td>Hockey</td>\n",
       "      <td>Hockey</td>\n",
       "      <td>SINGH, Kulwant</td>\n",
       "      <td>IND</td>\n",
       "      <td>Men</td>\n",
       "      <td>Hockey</td>\n",
       "      <td>Bronze</td>\n",
       "    </tr>\n",
       "    <tr>\n",
       "      <th>13531</th>\n",
       "      <td>1972</td>\n",
       "      <td>Munich</td>\n",
       "      <td>Hockey</td>\n",
       "      <td>Hockey</td>\n",
       "      <td>SINGH, Mukhbain</td>\n",
       "      <td>IND</td>\n",
       "      <td>Men</td>\n",
       "      <td>Hockey</td>\n",
       "      <td>Bronze</td>\n",
       "    </tr>\n",
       "    <tr>\n",
       "      <th>13532</th>\n",
       "      <td>1972</td>\n",
       "      <td>Munich</td>\n",
       "      <td>Hockey</td>\n",
       "      <td>Hockey</td>\n",
       "      <td>SINGH, Virinder</td>\n",
       "      <td>IND</td>\n",
       "      <td>Men</td>\n",
       "      <td>Hockey</td>\n",
       "      <td>Bronze</td>\n",
       "    </tr>\n",
       "    <tr>\n",
       "      <th>16087</th>\n",
       "      <td>1980</td>\n",
       "      <td>Moscow</td>\n",
       "      <td>Hockey</td>\n",
       "      <td>Hockey</td>\n",
       "      <td>ALLAN, Schofield</td>\n",
       "      <td>IND</td>\n",
       "      <td>Men</td>\n",
       "      <td>Hockey</td>\n",
       "      <td>Gold</td>\n",
       "    </tr>\n",
       "    <tr>\n",
       "      <th>16088</th>\n",
       "      <td>1980</td>\n",
       "      <td>Moscow</td>\n",
       "      <td>Hockey</td>\n",
       "      <td>Hockey</td>\n",
       "      <td>AMARJIT RANA, Singh</td>\n",
       "      <td>IND</td>\n",
       "      <td>Men</td>\n",
       "      <td>Hockey</td>\n",
       "      <td>Gold</td>\n",
       "    </tr>\n",
       "    <tr>\n",
       "      <th>16089</th>\n",
       "      <td>1980</td>\n",
       "      <td>Moscow</td>\n",
       "      <td>Hockey</td>\n",
       "      <td>Hockey</td>\n",
       "      <td>BASKARAN, Baskaran</td>\n",
       "      <td>IND</td>\n",
       "      <td>Men</td>\n",
       "      <td>Hockey</td>\n",
       "      <td>Gold</td>\n",
       "    </tr>\n",
       "    <tr>\n",
       "      <th>16090</th>\n",
       "      <td>1980</td>\n",
       "      <td>Moscow</td>\n",
       "      <td>Hockey</td>\n",
       "      <td>Hockey</td>\n",
       "      <td>CHETTRI, Chettri</td>\n",
       "      <td>IND</td>\n",
       "      <td>Men</td>\n",
       "      <td>Hockey</td>\n",
       "      <td>Gold</td>\n",
       "    </tr>\n",
       "    <tr>\n",
       "      <th>16091</th>\n",
       "      <td>1980</td>\n",
       "      <td>Moscow</td>\n",
       "      <td>Hockey</td>\n",
       "      <td>Hockey</td>\n",
       "      <td>DEAVINDER, Singh</td>\n",
       "      <td>IND</td>\n",
       "      <td>Men</td>\n",
       "      <td>Hockey</td>\n",
       "      <td>Gold</td>\n",
       "    </tr>\n",
       "    <tr>\n",
       "      <th>16092</th>\n",
       "      <td>1980</td>\n",
       "      <td>Moscow</td>\n",
       "      <td>Hockey</td>\n",
       "      <td>Hockey</td>\n",
       "      <td>FERNANDES, Mervyn</td>\n",
       "      <td>IND</td>\n",
       "      <td>Men</td>\n",
       "      <td>Hockey</td>\n",
       "      <td>Gold</td>\n",
       "    </tr>\n",
       "    <tr>\n",
       "      <th>16093</th>\n",
       "      <td>1980</td>\n",
       "      <td>Moscow</td>\n",
       "      <td>Hockey</td>\n",
       "      <td>Hockey</td>\n",
       "      <td>GURMAIL, Singh</td>\n",
       "      <td>IND</td>\n",
       "      <td>Men</td>\n",
       "      <td>Hockey</td>\n",
       "      <td>Gold</td>\n",
       "    </tr>\n",
       "    <tr>\n",
       "      <th>16094</th>\n",
       "      <td>1980</td>\n",
       "      <td>Moscow</td>\n",
       "      <td>Hockey</td>\n",
       "      <td>Hockey</td>\n",
       "      <td>KAUSHIK, Maharaj Krishon</td>\n",
       "      <td>IND</td>\n",
       "      <td>Men</td>\n",
       "      <td>Hockey</td>\n",
       "      <td>Gold</td>\n",
       "    </tr>\n",
       "    <tr>\n",
       "      <th>16095</th>\n",
       "      <td>1980</td>\n",
       "      <td>Moscow</td>\n",
       "      <td>Hockey</td>\n",
       "      <td>Hockey</td>\n",
       "      <td>KUMAR, Charanjit</td>\n",
       "      <td>IND</td>\n",
       "      <td>Men</td>\n",
       "      <td>Hockey</td>\n",
       "      <td>Gold</td>\n",
       "    </tr>\n",
       "    <tr>\n",
       "      <th>16096</th>\n",
       "      <td>1980</td>\n",
       "      <td>Moscow</td>\n",
       "      <td>Hockey</td>\n",
       "      <td>Hockey</td>\n",
       "      <td>MANEYPANDA, Somaya</td>\n",
       "      <td>IND</td>\n",
       "      <td>Men</td>\n",
       "      <td>Hockey</td>\n",
       "      <td>Gold</td>\n",
       "    </tr>\n",
       "    <tr>\n",
       "      <th>16097</th>\n",
       "      <td>1980</td>\n",
       "      <td>Moscow</td>\n",
       "      <td>Hockey</td>\n",
       "      <td>Hockey</td>\n",
       "      <td>MOHAMMAD, Shahid</td>\n",
       "      <td>IND</td>\n",
       "      <td>Men</td>\n",
       "      <td>Hockey</td>\n",
       "      <td>Gold</td>\n",
       "    </tr>\n",
       "    <tr>\n",
       "      <th>16098</th>\n",
       "      <td>1980</td>\n",
       "      <td>Moscow</td>\n",
       "      <td>Hockey</td>\n",
       "      <td>Hockey</td>\n",
       "      <td>SINGH, Singh</td>\n",
       "      <td>IND</td>\n",
       "      <td>Men</td>\n",
       "      <td>Hockey</td>\n",
       "      <td>Gold</td>\n",
       "    </tr>\n",
       "    <tr>\n",
       "      <th>16100</th>\n",
       "      <td>1980</td>\n",
       "      <td>Moscow</td>\n",
       "      <td>Hockey</td>\n",
       "      <td>Hockey</td>\n",
       "      <td>SURINDER, Singh</td>\n",
       "      <td>IND</td>\n",
       "      <td>Men</td>\n",
       "      <td>Hockey</td>\n",
       "      <td>Gold</td>\n",
       "    </tr>\n",
       "    <tr>\n",
       "      <th>16101</th>\n",
       "      <td>1980</td>\n",
       "      <td>Moscow</td>\n",
       "      <td>Hockey</td>\n",
       "      <td>Hockey</td>\n",
       "      <td>SYLVANUS, Dung Dung</td>\n",
       "      <td>IND</td>\n",
       "      <td>Men</td>\n",
       "      <td>Hockey</td>\n",
       "      <td>Gold</td>\n",
       "    </tr>\n",
       "    <tr>\n",
       "      <th>16102</th>\n",
       "      <td>1980</td>\n",
       "      <td>Moscow</td>\n",
       "      <td>Hockey</td>\n",
       "      <td>Hockey</td>\n",
       "      <td>ZAFAR, Zafar</td>\n",
       "      <td>IND</td>\n",
       "      <td>Men</td>\n",
       "      <td>Hockey</td>\n",
       "      <td>Gold</td>\n",
       "    </tr>\n",
       "    <tr>\n",
       "      <th>22981</th>\n",
       "      <td>1996</td>\n",
       "      <td>Atlanta</td>\n",
       "      <td>Tennis</td>\n",
       "      <td>Tennis</td>\n",
       "      <td>PAES, Leander</td>\n",
       "      <td>IND</td>\n",
       "      <td>Men</td>\n",
       "      <td>Singles</td>\n",
       "      <td>Bronze</td>\n",
       "    </tr>\n",
       "    <tr>\n",
       "      <th>25113</th>\n",
       "      <td>2000</td>\n",
       "      <td>Sydney</td>\n",
       "      <td>Weightlifting</td>\n",
       "      <td>Weightlifting</td>\n",
       "      <td>MALLESWARI, Karnam</td>\n",
       "      <td>IND</td>\n",
       "      <td>Women</td>\n",
       "      <td>69KG</td>\n",
       "      <td>Bronze</td>\n",
       "    </tr>\n",
       "    <tr>\n",
       "      <th>26870</th>\n",
       "      <td>2004</td>\n",
       "      <td>Athens</td>\n",
       "      <td>Shooting</td>\n",
       "      <td>Shooting</td>\n",
       "      <td>RATHORE, Rajyavardhan S.</td>\n",
       "      <td>IND</td>\n",
       "      <td>Men</td>\n",
       "      <td>Double Trap (150 Targets)</td>\n",
       "      <td>Silver</td>\n",
       "    </tr>\n",
       "    <tr>\n",
       "      <th>27922</th>\n",
       "      <td>2008</td>\n",
       "      <td>Beijing</td>\n",
       "      <td>Boxing</td>\n",
       "      <td>Boxing</td>\n",
       "      <td>KUMAR, Vijender</td>\n",
       "      <td>IND</td>\n",
       "      <td>Men</td>\n",
       "      <td>69 - 75 KG</td>\n",
       "      <td>Bronze</td>\n",
       "    </tr>\n",
       "    <tr>\n",
       "      <th>28856</th>\n",
       "      <td>2008</td>\n",
       "      <td>Beijing</td>\n",
       "      <td>Shooting</td>\n",
       "      <td>Shooting</td>\n",
       "      <td>BINDRA, Abhinav</td>\n",
       "      <td>IND</td>\n",
       "      <td>Men</td>\n",
       "      <td>10M Air Rifle (60 Shots)</td>\n",
       "      <td>Gold</td>\n",
       "    </tr>\n",
       "    <tr>\n",
       "      <th>29165</th>\n",
       "      <td>2008</td>\n",
       "      <td>Beijing</td>\n",
       "      <td>Wrestling</td>\n",
       "      <td>Wrestling Free.</td>\n",
       "      <td>KUMAR, Sushil</td>\n",
       "      <td>IND</td>\n",
       "      <td>Men</td>\n",
       "      <td>60 - 66KG</td>\n",
       "      <td>Bronze</td>\n",
       "    </tr>\n",
       "    <tr>\n",
       "      <th>29795</th>\n",
       "      <td>2012</td>\n",
       "      <td>London</td>\n",
       "      <td>Badminton</td>\n",
       "      <td>Badminton</td>\n",
       "      <td>NEHWAL, Saina</td>\n",
       "      <td>IND</td>\n",
       "      <td>Women</td>\n",
       "      <td>Singles</td>\n",
       "      <td>Bronze</td>\n",
       "    </tr>\n",
       "    <tr>\n",
       "      <th>29879</th>\n",
       "      <td>2012</td>\n",
       "      <td>London</td>\n",
       "      <td>Boxing</td>\n",
       "      <td>Boxing</td>\n",
       "      <td>KOM, Mary</td>\n",
       "      <td>IND</td>\n",
       "      <td>Women</td>\n",
       "      <td>51 KG</td>\n",
       "      <td>Bronze</td>\n",
       "    </tr>\n",
       "    <tr>\n",
       "      <th>30841</th>\n",
       "      <td>2012</td>\n",
       "      <td>London</td>\n",
       "      <td>Shooting</td>\n",
       "      <td>Shooting</td>\n",
       "      <td>NARANG, Gagan</td>\n",
       "      <td>IND</td>\n",
       "      <td>Men</td>\n",
       "      <td>10M Air Rifle</td>\n",
       "      <td>Bronze</td>\n",
       "    </tr>\n",
       "    <tr>\n",
       "      <th>30849</th>\n",
       "      <td>2012</td>\n",
       "      <td>London</td>\n",
       "      <td>Shooting</td>\n",
       "      <td>Shooting</td>\n",
       "      <td>KUMAR, Vijay</td>\n",
       "      <td>IND</td>\n",
       "      <td>Men</td>\n",
       "      <td>25M Rapid Pistol</td>\n",
       "      <td>Silver</td>\n",
       "    </tr>\n",
       "    <tr>\n",
       "      <th>31111</th>\n",
       "      <td>2012</td>\n",
       "      <td>London</td>\n",
       "      <td>Wrestling</td>\n",
       "      <td>Wrestling Freestyle</td>\n",
       "      <td>DUTT, Yogeshwar</td>\n",
       "      <td>IND</td>\n",
       "      <td>Men</td>\n",
       "      <td>Wf 60 KG</td>\n",
       "      <td>Bronze</td>\n",
       "    </tr>\n",
       "    <tr>\n",
       "      <th>31118</th>\n",
       "      <td>2012</td>\n",
       "      <td>London</td>\n",
       "      <td>Wrestling</td>\n",
       "      <td>Wrestling Freestyle</td>\n",
       "      <td>KUMAR, Sushil</td>\n",
       "      <td>IND</td>\n",
       "      <td>Men</td>\n",
       "      <td>Wf 66 KG</td>\n",
       "      <td>Silver</td>\n",
       "    </tr>\n",
       "  </tbody>\n",
       "</table>\n",
       "<p>183 rows × 9 columns</p>\n",
       "</div>"
      ],
      "text/plain": [
       "       Year         City          Sport           Discipline  \\\n",
       "241    1900        Paris      Athletics            Athletics   \n",
       "244    1900        Paris      Athletics            Athletics   \n",
       "5512   1928    Amsterdam         Hockey               Hockey   \n",
       "5513   1928    Amsterdam         Hockey               Hockey   \n",
       "5514   1928    Amsterdam         Hockey               Hockey   \n",
       "5515   1928    Amsterdam         Hockey               Hockey   \n",
       "5516   1928    Amsterdam         Hockey               Hockey   \n",
       "5517   1928    Amsterdam         Hockey               Hockey   \n",
       "5518   1928    Amsterdam         Hockey               Hockey   \n",
       "5519   1928    Amsterdam         Hockey               Hockey   \n",
       "5520   1928    Amsterdam         Hockey               Hockey   \n",
       "5521   1928    Amsterdam         Hockey               Hockey   \n",
       "5522   1928    Amsterdam         Hockey               Hockey   \n",
       "5523   1928    Amsterdam         Hockey               Hockey   \n",
       "5524   1928    Amsterdam         Hockey               Hockey   \n",
       "5525   1928    Amsterdam         Hockey               Hockey   \n",
       "5526   1928    Amsterdam         Hockey               Hockey   \n",
       "6122   1932  Los Angeles         Hockey               Hockey   \n",
       "6123   1932  Los Angeles         Hockey               Hockey   \n",
       "6124   1932  Los Angeles         Hockey               Hockey   \n",
       "6125   1932  Los Angeles         Hockey               Hockey   \n",
       "6126   1932  Los Angeles         Hockey               Hockey   \n",
       "6127   1932  Los Angeles         Hockey               Hockey   \n",
       "6128   1932  Los Angeles         Hockey               Hockey   \n",
       "6129   1932  Los Angeles         Hockey               Hockey   \n",
       "6130   1932  Los Angeles         Hockey               Hockey   \n",
       "6131   1932  Los Angeles         Hockey               Hockey   \n",
       "6132   1932  Los Angeles         Hockey               Hockey   \n",
       "6962   1936       Berlin         Hockey               Hockey   \n",
       "6963   1936       Berlin         Hockey               Hockey   \n",
       "...     ...          ...            ...                  ...   \n",
       "13530  1972       Munich         Hockey               Hockey   \n",
       "13531  1972       Munich         Hockey               Hockey   \n",
       "13532  1972       Munich         Hockey               Hockey   \n",
       "16087  1980       Moscow         Hockey               Hockey   \n",
       "16088  1980       Moscow         Hockey               Hockey   \n",
       "16089  1980       Moscow         Hockey               Hockey   \n",
       "16090  1980       Moscow         Hockey               Hockey   \n",
       "16091  1980       Moscow         Hockey               Hockey   \n",
       "16092  1980       Moscow         Hockey               Hockey   \n",
       "16093  1980       Moscow         Hockey               Hockey   \n",
       "16094  1980       Moscow         Hockey               Hockey   \n",
       "16095  1980       Moscow         Hockey               Hockey   \n",
       "16096  1980       Moscow         Hockey               Hockey   \n",
       "16097  1980       Moscow         Hockey               Hockey   \n",
       "16098  1980       Moscow         Hockey               Hockey   \n",
       "16100  1980       Moscow         Hockey               Hockey   \n",
       "16101  1980       Moscow         Hockey               Hockey   \n",
       "16102  1980       Moscow         Hockey               Hockey   \n",
       "22981  1996      Atlanta         Tennis               Tennis   \n",
       "25113  2000       Sydney  Weightlifting        Weightlifting   \n",
       "26870  2004       Athens       Shooting             Shooting   \n",
       "27922  2008      Beijing         Boxing               Boxing   \n",
       "28856  2008      Beijing       Shooting             Shooting   \n",
       "29165  2008      Beijing      Wrestling      Wrestling Free.   \n",
       "29795  2012       London      Badminton            Badminton   \n",
       "29879  2012       London         Boxing               Boxing   \n",
       "30841  2012       London       Shooting             Shooting   \n",
       "30849  2012       London       Shooting             Shooting   \n",
       "31111  2012       London      Wrestling  Wrestling Freestyle   \n",
       "31118  2012       London      Wrestling  Wrestling Freestyle   \n",
       "\n",
       "                            Athlete Country Gender                      Event  \\\n",
       "241               PRITCHARD, Norman     IND    Men                       200M   \n",
       "244               PRITCHARD, Norman     IND    Men               200M Hurdles   \n",
       "5512           ALLEN, Richard James     IND    Men                     Hockey   \n",
       "5513                    CHAND, Dyan     IND    Men                     Hockey   \n",
       "5514            GATELEY, Maurice A.     IND    Men                     Hockey   \n",
       "5515                    GILL, K. S.     IND    Men                     Hockey   \n",
       "5516   GOODSIR-CULLEN, William John     IND    Men                     Hockey   \n",
       "5517        HAMMOND, Leslie Charles     IND    Men                     Hockey   \n",
       "5518             KHAN, Feroze Uddin     IND    Men                     Hockey   \n",
       "5519            MARTHINS, George E.     IND    Men                     Hockey   \n",
       "5520                 NORRIS, Rex A.     IND    Men                     Hockey   \n",
       "5521          PINNIGER, Broome Eric     IND    Men                     Hockey   \n",
       "5522             ROCQUE, Michael E.     IND    Men                     Hockey   \n",
       "5523            SEAMAN, Frederic S.     IND    Men                     Hockey   \n",
       "5524                   SHAUKAT, Ali     IND    Men                     Hockey   \n",
       "5525                  SINGH, Jaipal     IND    Men                     Hockey   \n",
       "5526           YUSUF, Sayed Mohamed     IND    Men                     Hockey   \n",
       "6122              BAIS, Dhyan Chand     IND    Men                     Hockey   \n",
       "6123               BAIS, Roop Singh     IND    Men                     Hockey   \n",
       "6124              BOKHARI, Lal Shah     IND    Men                     Hockey   \n",
       "6125             CARR, Richard John     IND    Men                     Hockey   \n",
       "6126        HAMMOND, Leslie Charles     IND    Men                     Hockey   \n",
       "6127           HIND, Arthur Charles     IND    Men                     Hockey   \n",
       "6128          JAFFAR, Sayed Mohomed     IND    Men                     Hockey   \n",
       "6129         MINHAS, Masud Ali Khan     IND    Men                     Hockey   \n",
       "6130          PINNIGER, Broome Eric     IND    Men                     Hockey   \n",
       "6131           SINGH KULLAR, Gurmit     IND    Men                     Hockey   \n",
       "6132        TAPSELL, Carlyle Carrol     IND    Men                     Hockey   \n",
       "6962           ALLEN, Richard James     IND    Men                     Hockey   \n",
       "6963              BAIS, Dhyan Chand     IND    Men                     Hockey   \n",
       "...                             ...     ...    ...                        ...   \n",
       "13530                SINGH, Kulwant     IND    Men                     Hockey   \n",
       "13531               SINGH, Mukhbain     IND    Men                     Hockey   \n",
       "13532               SINGH, Virinder     IND    Men                     Hockey   \n",
       "16087              ALLAN, Schofield     IND    Men                     Hockey   \n",
       "16088           AMARJIT RANA, Singh     IND    Men                     Hockey   \n",
       "16089            BASKARAN, Baskaran     IND    Men                     Hockey   \n",
       "16090              CHETTRI, Chettri     IND    Men                     Hockey   \n",
       "16091              DEAVINDER, Singh     IND    Men                     Hockey   \n",
       "16092             FERNANDES, Mervyn     IND    Men                     Hockey   \n",
       "16093                GURMAIL, Singh     IND    Men                     Hockey   \n",
       "16094      KAUSHIK, Maharaj Krishon     IND    Men                     Hockey   \n",
       "16095              KUMAR, Charanjit     IND    Men                     Hockey   \n",
       "16096            MANEYPANDA, Somaya     IND    Men                     Hockey   \n",
       "16097              MOHAMMAD, Shahid     IND    Men                     Hockey   \n",
       "16098                  SINGH, Singh     IND    Men                     Hockey   \n",
       "16100               SURINDER, Singh     IND    Men                     Hockey   \n",
       "16101           SYLVANUS, Dung Dung     IND    Men                     Hockey   \n",
       "16102                  ZAFAR, Zafar     IND    Men                     Hockey   \n",
       "22981                 PAES, Leander     IND    Men                    Singles   \n",
       "25113            MALLESWARI, Karnam     IND  Women                       69KG   \n",
       "26870      RATHORE, Rajyavardhan S.     IND    Men  Double Trap (150 Targets)   \n",
       "27922               KUMAR, Vijender     IND    Men                 69 - 75 KG   \n",
       "28856               BINDRA, Abhinav     IND    Men   10M Air Rifle (60 Shots)   \n",
       "29165                 KUMAR, Sushil     IND    Men                  60 - 66KG   \n",
       "29795                 NEHWAL, Saina     IND  Women                    Singles   \n",
       "29879                     KOM, Mary     IND  Women                      51 KG   \n",
       "30841                 NARANG, Gagan     IND    Men              10M Air Rifle   \n",
       "30849                  KUMAR, Vijay     IND    Men           25M Rapid Pistol   \n",
       "31111               DUTT, Yogeshwar     IND    Men                   Wf 60 KG   \n",
       "31118                 KUMAR, Sushil     IND    Men                   Wf 66 KG   \n",
       "\n",
       "        Medal  \n",
       "241    Silver  \n",
       "244    Silver  \n",
       "5512     Gold  \n",
       "5513     Gold  \n",
       "5514     Gold  \n",
       "5515     Gold  \n",
       "5516     Gold  \n",
       "5517     Gold  \n",
       "5518     Gold  \n",
       "5519     Gold  \n",
       "5520     Gold  \n",
       "5521     Gold  \n",
       "5522     Gold  \n",
       "5523     Gold  \n",
       "5524     Gold  \n",
       "5525     Gold  \n",
       "5526     Gold  \n",
       "6122     Gold  \n",
       "6123     Gold  \n",
       "6124     Gold  \n",
       "6125     Gold  \n",
       "6126     Gold  \n",
       "6127     Gold  \n",
       "6128     Gold  \n",
       "6129     Gold  \n",
       "6130     Gold  \n",
       "6131     Gold  \n",
       "6132     Gold  \n",
       "6962     Gold  \n",
       "6963     Gold  \n",
       "...       ...  \n",
       "13530  Bronze  \n",
       "13531  Bronze  \n",
       "13532  Bronze  \n",
       "16087    Gold  \n",
       "16088    Gold  \n",
       "16089    Gold  \n",
       "16090    Gold  \n",
       "16091    Gold  \n",
       "16092    Gold  \n",
       "16093    Gold  \n",
       "16094    Gold  \n",
       "16095    Gold  \n",
       "16096    Gold  \n",
       "16097    Gold  \n",
       "16098    Gold  \n",
       "16100    Gold  \n",
       "16101    Gold  \n",
       "16102    Gold  \n",
       "22981  Bronze  \n",
       "25113  Bronze  \n",
       "26870  Silver  \n",
       "27922  Bronze  \n",
       "28856    Gold  \n",
       "29165  Bronze  \n",
       "29795  Bronze  \n",
       "29879  Bronze  \n",
       "30841  Bronze  \n",
       "30849  Silver  \n",
       "31111  Bronze  \n",
       "31118  Silver  \n",
       "\n",
       "[183 rows x 9 columns]"
      ]
     },
     "execution_count": 41,
     "metadata": {},
     "output_type": "execute_result"
    }
   ],
   "source": [
    "olympics_data_IND=olympics_data[(olympics_data['Country']=='IND')]  # Total number of medals won by India in Olympics\n",
    "olympics_data_IND"
   ]
  },
  {
   "cell_type": "markdown",
   "metadata": {},
   "source": [
    "Total number of medals is 183 but this number is the medal count which every player won either solo or in group. However, the group event medals should be considered as only one medal as per IOC(International Olympic Committee)"
   ]
  },
  {
   "cell_type": "code",
   "execution_count": 42,
   "metadata": {},
   "outputs": [
    {
     "data": {
      "text/plain": [
       "Bronze    11\n",
       "Gold       9\n",
       "Silver     6\n",
       "Name: Medal, dtype: int64"
      ]
     },
     "execution_count": 42,
     "metadata": {},
     "output_type": "execute_result"
    }
   ],
   "source": [
    "olympics_data_IND.groupby(['Year','Event'],as_index=False).max()['Medal'].value_counts() # Considering group event medals as a single medal"
   ]
  },
  {
   "cell_type": "markdown",
   "metadata": {},
   "source": [
    "So, India has won 11 bronze, 9 gold and 6 silver medals till 2012. Total count is 26. \n",
    "Let's plot the India's performace over the years"
   ]
  },
  {
   "cell_type": "code",
   "execution_count": 43,
   "metadata": {},
   "outputs": [],
   "source": [
    "dfindyear = olympics_data_IND.groupby(['Year','Event'],as_index=False).max()  # Getting the data of 26 olympics medals by India"
   ]
  },
  {
   "cell_type": "code",
   "execution_count": 44,
   "metadata": {},
   "outputs": [],
   "source": [
    "indmedalcount=dfindyear.Year.value_counts().reset_index(name='Medal')  # Getting the medal count each year for India"
   ]
  },
  {
   "cell_type": "code",
   "execution_count": 45,
   "metadata": {},
   "outputs": [
    {
     "data": {
      "text/plain": [
       "Text(0.5, 1, 'Medals for India over the years')"
      ]
     },
     "execution_count": 45,
     "metadata": {},
     "output_type": "execute_result"
    },
    {
     "data": {
      "image/png": "[encoded data removed]",
      "text/plain": [
       "<Figure size 720x720 with 1 Axes>"
      ]
     },
     "metadata": {
      "needs_background": "light"
     },
     "output_type": "display_data"
    }
   ],
   "source": [
    "med=sns.catplot(x=\"index\", y=\"Medal\", data=indmedalcount,   \n",
    "                height=10, kind=\"bar\", palette=\"muted\")\n",
    "med.set_xlabels(\"Year\")\n",
    "med.set_ylabels(\"Number of Medals\")\n",
    "plt.title('Medals for India over the years')"
   ]
  },
  {
   "cell_type": "markdown",
   "metadata": {},
   "source": [
    "Performance of India has not been impressive in the Olympics. India has done its best in Hockey(years 1928-1980). 2012 was the year in which India won 6 medals."
   ]
  },
  {
   "cell_type": "markdown",
   "metadata": {},
   "source": [
    "## 5. Conclusion and Actionable insights"
   ]
  },
  {
   "cell_type": "markdown",
   "metadata": {},
   "source": [
    "CONCLUSION:\n",
    "\n",
    "1) Performance of women were better than that of men over the years.\n",
    "\n",
    "2) Overall, USA has been the best performing nation at Olympics till 2012.\n",
    "\n",
    "3) Olympics did not happen during world wars in the year 1916, 1940 and 1944.\n",
    "\n",
    "4) Most number of medals have been won at London. This is true as London has hosted Olympics most(thrice), followed by LA(2 times).\n",
    "\n",
    "5) Medal counts depends largely on economical factors. USA being most developed nation is on the top in most of the Olympics. Soviet Union were unbeatable during 1950s-80s. However, disintegration of USSR affected a lot in Olympics also. \n",
    "\n",
    "ACTIONABLE INSIGHTS:\n",
    "\n",
    "1) Of the given dataset, it is clear that males have won around 72% of the total medals while females are at 28%. However, when we consider performance, women’s graph tend to be more increasing than me. International Olympics Committee should organize more events for women as they have exhibited better potential.\n",
    "\n",
    "2) Most number of medals have been won in Aquatics segment followed by Athletics and Rowing. This in turn means that most number of events are organized in these sports. Many countries which have not done fairly well should concentrate on these areas as the chances of them getting a medal will increase by doing so.\n",
    "\n",
    "3) India have done fairly well in Hockey and Shooting. India has immense talent in these 2 areas and more focus can be given here by Indian authorities."
   ]
  }
 ],
 "metadata": {
  "kernelspec": {
   "display_name": "Python 3",
   "language": "python",
   "name": "python3"
  },
  "language_info": {
   "codemirror_mode": {
    "name": "ipython",
    "version": 3
   },
   "file_extension": ".py",
   "mimetype": "text/x-python",
   "name": "python",
   "nbconvert_exporter": "python",
   "pygments_lexer": "ipython3",
   "version": "3.7.3"
  },
  "widgets": {
   "application/vnd.jupyter.widget-state+json": {
    "state": {},
    "version_major": 2,
    "version_minor": 0
   }
  }
 },
 "nbformat": 4,
 "nbformat_minor": 2
}
